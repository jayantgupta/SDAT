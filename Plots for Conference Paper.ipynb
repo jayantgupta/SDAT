{
 "cells": [
  {
   "cell_type": "markdown",
   "metadata": {},
   "source": [
    "# Plot 1\n",
    "Figure 7, Histogram of 100 randomly-sampled Gini indices subject to a population constraint of 4,000"
   ]
  },
  {
   "cell_type": "code",
   "execution_count": 1,
   "metadata": {},
   "outputs": [
    {
     "name": "stderr",
     "output_type": "stream",
     "text": [
      "Matplotlib is building the font cache; this may take a moment.\n"
     ]
    }
   ],
   "source": [
    "import matplotlib.pyplot as plt\n",
    "import numpy as np\n",
    "import pandas as pd"
   ]
  },
  {
   "cell_type": "code",
   "execution_count": 2,
   "metadata": {},
   "outputs": [
    {
     "data": {
      "image/png": "[encoded data removed]",
      "text/plain": [
       "<Figure size 432x288 with 1 Axes>"
      ]
     },
     "metadata": {
      "needs_background": "light"
     },
     "output_type": "display_data"
    }
   ],
   "source": [
    "df = np.array(\n",
    "    [[0.198333697770713, 1],\n",
    "     [0.199090940234766, 2],\n",
    "     [0.199848182698819, 6],\n",
    "     [0.200605425162873, 5],\n",
    "     [0.201362667626926, 7],\n",
    "     [0.202119910090979, 16],\n",
    "     [0.202877152555032, 17],\n",
    "     [0.203634395019085, 16],\n",
    "     [0.204391637483139, 14],\n",
    "     [0.205148879947192, 11],\n",
    "     [0.205906122411245, 5],\n",
    "     [0.206663364875298, 1]])\n",
    "\n",
    "plt.figure()\n",
    "plt.bar(x=df[:,0],\n",
    "        width = 0.00075724,\n",
    "        height=df[:,1],\n",
    "       color=\"blue\",\n",
    "       edgecolor=\"black\")\n",
    "plt.text(x=0.198,\n",
    "         y=12,\n",
    "         s=\"Mean:   0.2029\\nStDev:  0.0015\\nMin:    0.1993\\nMax:    0.2067\",\n",
    "        family='monospace')\n",
    "#plt.show()\n",
    "plt.savefig('Figure7.png', dpi=600)"
   ]
  },
  {
   "cell_type": "markdown",
   "metadata": {},
   "source": [
    "# Plot 2\n",
    "Figure 8, trend of mean of all inequality statistics according to partition population target."
   ]
  },
  {
   "cell_type": "code",
   "execution_count": 3,
   "metadata": {},
   "outputs": [
    {
     "data": {
      "image/png": "[encoded data removed]",
      "text/plain": [
       "<Figure size 432x288 with 1 Axes>"
      ]
     },
     "metadata": {
      "needs_background": "light"
     },
     "output_type": "display_data"
    }
   ],
   "source": [
    "df = pd.DataFrame({\n",
    "    'x': [2000, 4000, 6000],\n",
    "    'Gini': [0.2121, 0.2026, 0.1962],\n",
    "    \"Theil's L\": [0.0763, 0.0694, 0.0648],\n",
    "    \"Theil's T\": [0.0703, 0.0641, 0.0601],\n",
    "    \"Atkinson (e=0.25)\": [0.0178, 0.0162, 0.0152],\n",
    "    \"Atkinson (e=0.5)\": [0.0360, 0.0328, 0.0308],\n",
    "    \"Atkinson (e=0.75)\": [0.0546, 0.0498, 0.0466]\n",
    "})\n",
    "\n",
    "plt.figure()\n",
    "\n",
    "# multiple line plot\n",
    "plt.plot( 'x', 'Gini', data=df, marker='x', markerfacecolor='blue', color='blue') #markersize=12, linewidth=4\n",
    "plt.plot( 'x', \"Theil's L\", data=df, marker='o', markerfacecolor='orange', color='orange')\n",
    "plt.plot( 'x', \"Theil's T\", data=df, marker='^', markerfacecolor='gray', color='gray')\n",
    "plt.plot( 'x', 'Atkinson (e=0.25)', data=df, marker='|', markerfacecolor='red', color='red')\n",
    "plt.plot( 'x', 'Atkinson (e=0.5)', data=df, marker='D', markerfacecolor='skyblue', color='skyblue')\n",
    "plt.plot( 'x', 'Atkinson (e=0.75)', data=df, marker='s', markerfacecolor='green', color='green')\n",
    "plt.ylim(0,0.225)\n",
    "plt.grid(which='major', axis='y')\n",
    "plt.xticks(np.arange(2000, 6001, step=2000))\n",
    "plt.yticks(np.arange(0, 0.251, step=0.05))\n",
    "plt.legend(loc = (0.58, 0.32))\n",
    "\n",
    "#plt.show()\n",
    "plt.savefig('Figure8.png', dpi=600)"
   ]
  }
 ],
 "metadata": {
  "kernelspec": {
   "display_name": "Python 3",
   "language": "python",
   "name": "python3"
  },
  "language_info": {
   "codemirror_mode": {
    "name": "ipython",
    "version": 3
   },
   "file_extension": ".py",
   "mimetype": "text/x-python",
   "name": "python",
   "nbconvert_exporter": "python",
   "pygments_lexer": "ipython3",
   "version": "3.7.9"
  }
 },
 "nbformat": 4,
 "nbformat_minor": 2
}
