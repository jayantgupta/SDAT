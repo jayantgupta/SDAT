{
 "cells": [
  {
   "cell_type": "code",
   "execution_count": 2,
   "metadata": {},
   "outputs": [
    {
     "name": "stdout",
     "output_type": "stream",
     "text": [
      "None\n"
     ]
    }
   ],
   "source": [
    "import arcpy\n",
    "import arcgis\n",
    "from datetime import datetime, timedelta\n",
    "print(arcpy.env.workspace)"
   ]
  },
  {
   "cell_type": "code",
   "execution_count": 2,
   "metadata": {},
   "outputs": [
    {
     "name": "stdout",
     "output_type": "stream",
     "text": [
      "Time to build 5 zones for 7299 data points: 0:00:16.818001\n"
     ]
    }
   ],
   "source": [
    "t1 = datetime.now()\n",
    "numzones = 5\n",
    "count_households = arcpy.GetCount_management(\"households_XYTableToPoint\")[0]\n",
    "\n",
    "arcpy.stats.BuildBalancedZones(\"households_XYTableToPoint\", \"out_features\", \n",
    "     \"NUMBER_OF_ZONES\", numzones, None, None, \"TRIMMED_DELAUNAY_TRIANGULATION\", \n",
    "     None, None, None, None, None, '', 100, 50, 0.1)\n",
    "t2 = datetime.now()\n",
    "t2_delta = t2 - t1\n",
    "print(\"Time to build {0} zones for {1} data points: {2}\".format(numzones, count_households, t2_delta))\n"
   ]
  },
  {
   "cell_type": "code",
   "execution_count": null,
   "metadata": {},
   "outputs": [],
   "source": [
    "def import_and_merge_data(state_fpath):\n",
    "    # iterate through folders in the state_fpath and concatenate into a table\n",
    "    # load that table into the local database\n",
    "    return\n",
    "\n",
    "def gini():\n",
    "    return"
   ]
  },
  {
   "cell_type": "code",
   "execution_count": 3,
   "metadata": {},
   "outputs": [
    {
     "name": "stdout",
     "output_type": "stream",
     "text": [
      "Simple\n",
      "True\n",
      "Point\n"
     ]
    }
   ],
   "source": [
    "desc = arcpy.Describe(\"households_XYTableToPoint\")\n",
    "\n",
    "print(desc.featureType)\n",
    "print(desc.hasSpatialIndex)\n",
    "print(desc.shapeType)\n",
    "# we want the second to be True and third to be Point"
   ]
  },
  {
   "cell_type": "code",
   "execution_count": 4,
   "metadata": {},
   "outputs": [
    {
     "name": "stdout",
     "output_type": "stream",
     "text": [
      "OIDFieldName: OBJECTID\n",
      "OBJECTID               : OID\n",
      "Shape                  : Geometry\n",
      "sp_id                  : Integer\n",
      "stcotrbg               : Double\n",
      "hh_race                : Integer\n",
      "hh_income              : Integer\n",
      "latitude               : Double\n",
      "longitude              : Double\n"
     ]
    }
   ],
   "source": [
    "fileloc = r\"C:/Users/alex/Documents/code/maup_income_inequality/test_gis/Default.gdb/households_XYTableToPoint\"\n",
    "desc = arcpy.Describe(fileloc)\n",
    "\n",
    "# If the table has an OID, print the OID field name\n",
    "#\n",
    "if desc.hasOID:\n",
    "    print(\"OIDFieldName: \" + desc.OIDFieldName)\n",
    "\n",
    "# Print the names and types of all the fields in the table\n",
    "#\n",
    "for field in desc.fields:\n",
    "    print(\"%-22s %s %s\" % (field.name, \":\", field.type))\n",
    "    #print field.name + \" = \" + field.type"
   ]
  },
  {
   "cell_type": "code",
   "execution_count": 5,
   "metadata": {},
   "outputs": [],
   "source": [
    "import numpy\n",
    "fileloc = r\"C:/Users/alex/Documents/code/maup_income_inequality/test_gis/Default.gdb/households_XYTableToPoint\"\n",
    "\n",
    "arr = arcpy.da.FeatureClassToNumPyArray(fileloc, ['hh_income'], skip_nulls=True)"
   ]
  },
  {
   "cell_type": "code",
   "execution_count": 10,
   "metadata": {},
   "outputs": [
    {
     "name": "stdout",
     "output_type": "stream",
     "text": [
      "[ 20000.  35600.   7800. ...   7800.  54020. 192900.]\n",
      "Calculating Gini...\n",
      "0.00% done\n",
      "0.14% done\n",
      "0.27% done\n",
      "0.41% done\n",
      "0.55% done\n",
      "0.69% done\n",
      "0.82% done\n",
      "0.96% done\n",
      "Gini coefficient is 0.40945182600662694. Calculated on 7299 points in 40.283027 seconds\n"
     ]
    }
   ],
   "source": [
    "incomelist = numpy.array(arr[\"hh_income\"], dtype='f8')\n",
    "rows = incomelist.size\n",
    "mean_income = incomelist.mean()\n",
    "\n",
    "print(\"Calculating Gini...\")\n",
    "diffsum = 0\n",
    "t3 = datetime.now()\n",
    "for i in range(0,rows):\n",
    "    for j in range(0,rows):\n",
    "        diffsum += abs(incomelist[i] - incomelist[j])\n",
    "    if (i%1000 == 0):\n",
    "        print(\"{0:.2f}% done\".format(i/rows))\n",
    "G = diffsum / (2 * rows**2 * mean_income)\n",
    "t4 = datetime.now()\n",
    "t4_delta = t4 - t3\n",
    "print(\"Gini coefficient is {0}. Calculated on {1} points in {2} seconds\".format(G,\n",
    "                                                                               rows,\n",
    "                                                                               t4_delta.total_seconds()))"
   ]
  }
 ],
 "metadata": {
  "kernelspec": {
   "display_name": "Python 3",
   "language": "python",
   "name": "python3"
  },
  "language_info": {
   "codemirror_mode": {
    "name": "ipython",
    "version": 3
   },
   "file_extension": ".py",
   "mimetype": "text/x-python",
   "name": "python",
   "nbconvert_exporter": "python",
   "pygments_lexer": "ipython3",
   "version": "3.7.9"
  }
 },
 "nbformat": 4,
 "nbformat_minor": 2
}
