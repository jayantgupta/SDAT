{
 "cells": [
  {
   "cell_type": "code",
   "execution_count": 4,
   "metadata": {},
   "outputs": [],
   "source": [
    "import numpy as np\n",
    "import pandas as pd\n",
    "import matplotlib.pyplot as plt\n",
    "import seaborn as sns"
   ]
  },
  {
   "cell_type": "markdown",
   "metadata": {},
   "source": [
    "# Distribution of population within Hennepin County Census Tracts\n",
    "We know that the census bureau defines a population range within census tracts. [1200, 8000] residents and [480, 3200] housing units. But does our data follow this guideline?\n",
    "1. What is the mean population per census tract?\n",
    "2. What is the standard deviation?\n",
    "3. Can we plot a smooth density over the distribution of populations for census tracts?\n",
    "4. Can we do the same for block groups?\n",
    "5. Can we do the same for blocks?\n",
    "\n",
    "While we are at it, let's plot the distribution of incomes as well.\n",
    "1. What was the mean household income per census tract? Median? Standard Deviation?\n",
    "2. Can we plot the distribution of average household income per census tract?\n",
    "3. Can we do this for block groups?\n",
    "4. Can we do this for blocks? How different does this look based on the fact that income points are randomly distributed within block groups?"
   ]
  },
  {
   "cell_type": "code",
   "execution_count": 5,
   "metadata": {},
   "outputs": [],
   "source": [
    "# function which, given a dataframe with aggregated data to plot as data['x'], will plot a kernel density \n",
    "\n",
    "def plot_kernel_density(data, plt_title='', plt_xlabel='', plt_ylabel=''):\n",
    "    sns.distplot(data['x'],\n",
    "                 hist=False,\n",
    "                 kde=True,\n",
    "                 rug=True,\n",
    "                 kde_kws={'linewidth': 3},\n",
    "                 rug_kws={'color': 'black'},\n",
    "                 color='darkblue')\n",
    "    \n",
    "    plt.title(plt_title)\n",
    "    plt.xlabel(plt_xlabel)\n",
    "    plt.ylabel(plt_ylabel)\n",
    "    \n",
    "    figname=plt_title+\".png\"\n",
    "    plt.savefig(figname)\n",
    "    \n",
    "    plt.show()\n",
    "    return"
   ]
  },
  {
   "cell_type": "code",
   "execution_count": 7,
   "metadata": {},
   "outputs": [],
   "source": [
    "fpath = \"./outputs/hennepin_incomes.csv\"\n",
    "hennepin = pd.read_csv(filepath_or_buffer=fpath,\n",
    "                       header=0,\n",
    "                       index_col=False,\n",
    "                       usecols=['hh_income', 'POP100', 'COUNTY', 'TRACT', 'BLKGRP', 'BLOCK'])"
   ]
  },
  {
   "cell_type": "code",
   "execution_count": 17,
   "metadata": {},
   "outputs": [
    {
     "name": "stdout",
     "output_type": "stream",
     "text": [
      "Hennepin census tract population\n",
      "\tmean:\t3768.073578595318\n",
      "\tstdev:\t1640.0685515027797\n",
      "\tmedian:\t3515.0\n",
      "\tmin:\t145.0\n",
      "\tmax:\t12433.0\n",
      "\tskew:\t1.5806542625798057\n",
      "\tkurt:\t5.223498256277633\n",
      "\t \n"
     ]
    }
   ],
   "source": [
    "hennepin_block_pop = hennepin.drop_duplicates(subset=['COUNTY', 'TRACT', 'BLKGRP', 'BLOCK'])\n",
    "hennepin_tract_pop = hennepin_block_pop.groupby(by=['COUNTY', 'TRACT'])\n",
    "hennepin_tract_pop = hennepin_tract_pop.agg({'POP100': 'sum'})\n",
    "hennepin_tract_pop = hennepin_tract_pop.rename(columns={'POP100':'x'})\n",
    "print(\"Hennepin census tract population\\n\\tmean:\\t{0}\\n\\tstdev:\\t{1}\\n\\tmedian:\\t{2}\\n\\tmin:\\t{3}\\n\\tmax:\\t{4}\\n\\tskew:\\t{5}\\n\\tkurt:\\t{6}\\n\\t \".format(hennepin_tract_pop['x'].mean(), \n",
    "                                                                                                                                           hennepin_tract_pop['x'].std(), \n",
    "                                                                                                                                           hennepin_tract_pop['x'].median(), \n",
    "                                                                                                                                           hennepin_tract_pop['x'].min(), \n",
    "                                                                                                                                           hennepin_tract_pop['x'].max(), \n",
    "                                                                                                                                           hennepin_tract_pop['x'].skew(),\n",
    "                                                                                                                                           hennepin_tract_pop['x'].kurtosis()) )\n",
    "\n",
    "plot_kernel_density(hennepin_tract_pop, plt_title=\"Hennepin County Census Tract Populations\", plt_xlabel=\"Tract Population\", plt_ylabel=\"Density\")"
   ]
  },
  {
   "cell_type": "code",
   "execution_count": 19,
   "metadata": {},
   "outputs": [
    {
     "name": "stdout",
     "output_type": "stream",
     "text": [
      "Hennepin census block group population\n",
      "\tmean:\t1157.9177800616649\n",
      "\tstdev:\t570.7401351533832\n",
      "\tmedian:\t1031.0\n",
      "\tmin:\t31.0\n",
      "\tmax:\t6494.0\n",
      "\tskew:\t3.6575662552088075\n",
      "\tkurt:\t22.838591284179046\n",
      "\t \n"
     ]
    }
   ],
   "source": [
    "hennepin_block_pop = hennepin.drop_duplicates(subset=['COUNTY', 'TRACT', 'BLKGRP', 'BLOCK'])\n",
    "hennepin_block_grp_pop = hennepin_block_pop.groupby(by=['COUNTY', 'TRACT', 'BLKGRP'])\n",
    "hennepin_block_grp_pop = hennepin_block_grp_pop.agg({'POP100': 'sum'})\n",
    "hennepin_block_grp_pop = hennepin_block_grp_pop.rename(columns={'POP100':'x'})\n",
    "print(\"Hennepin census block group population\\n\\tmean:\\t{0}\\n\\tstdev:\\t{1}\\n\\tmedian:\\t{2}\\n\\tmin:\\t{3}\\n\\tmax:\\t{4}\\n\\tskew:\\t{5}\\n\\tkurt:\\t{6}\\n\\t \".format(hennepin_block_grp_pop['x'].mean(), \n",
    "                                                                                                                                           hennepin_block_grp_pop['x'].std(), \n",
    "                                                                                                                                           hennepin_block_grp_pop['x'].median(), \n",
    "                                                                                                                                           hennepin_block_grp_pop['x'].min(), \n",
    "                                                                                                                                           hennepin_block_grp_pop['x'].max(), \n",
    "                                                                                                                                           hennepin_block_grp_pop['x'].skew(),\n",
    "                                                                                                                                           hennepin_block_grp_pop['x'].kurtosis()) )\n",
    "\n",
    "plot_kernel_density(hennepin_block_grp_pop, plt_title=\"Hennepin County Census Block Group Populations\", plt_xlabel=\"Block Group Population\", plt_ylabel=\"Density\")"
   ]
  },
  {
   "cell_type": "code",
   "execution_count": 20,
   "metadata": {},
   "outputs": [
    {
     "name": "stdout",
     "output_type": "stream",
     "text": [
      "Hennepin census block population\n",
      "\tmean:\t69.88735190124682\n",
      "\tstdev:\t99.97792542679582\n",
      "\tmedian:\t49.0\n",
      "\tmin:\t0.0\n",
      "\tmax:\t3043.0\n",
      "\tskew:\t6.561999452663443\n",
      "\tkurt:\t89.02392445901091\n",
      "\t \n"
     ]
    }
   ],
   "source": [
    "hennepin_block_pop = hennepin.drop_duplicates(subset=['COUNTY', 'TRACT', 'BLKGRP', 'BLOCK'])\n",
    "hennepin_block_pop = hennepin_block_pop.groupby(by=['COUNTY', 'TRACT', 'BLKGRP', 'BLOCK'])\n",
    "hennepin_block_pop = hennepin_block_pop.agg({'POP100': 'sum'})\n",
    "hennepin_block_pop = hennepin_block_pop.rename(columns={'POP100':'x'})\n",
    "print(\"Hennepin census block population\\n\\tmean:\\t{0}\\n\\tstdev:\\t{1}\\n\\tmedian:\\t{2}\\n\\tmin:\\t{3}\\n\\tmax:\\t{4}\\n\\tskew:\\t{5}\\n\\tkurt:\\t{6}\\n\\t \".format(hennepin_block_pop['x'].mean(), \n",
    "                                                                                                                                           hennepin_block_pop['x'].std(), \n",
    "                                                                                                                                           hennepin_block_pop['x'].median(), \n",
    "                                                                                                                                           hennepin_block_pop['x'].min(), \n",
    "                                                                                                                                           hennepin_block_pop['x'].max(), \n",
    "                                                                                                                                           hennepin_block_pop['x'].skew(),\n",
    "                                                                                                                                           hennepin_block_pop['x'].kurtosis()) )\n",
    "\n",
    "plot_kernel_density(hennepin_block_pop, plt_title=\"Hennepin County Census Block Populations\", plt_xlabel=\"Block Population\", plt_ylabel=\"Density\")"
   ]
  },
  {
   "cell_type": "code",
   "execution_count": 22,
   "metadata": {},
   "outputs": [
    {
     "name": "stdout",
     "output_type": "stream",
     "text": [
      "Hennepin census tract income\n",
      "\tmean:\t78729.96440028196\n",
      "\tstdev:\t30323.468625499016\n",
      "\tmedian:\t74916.83644859813\n",
      "\tmin:\t18899.53488372093\n",
      "\tmax:\t163509.37420814479\n",
      "\tskew:\t0.39261938016800774\n",
      "\tkurt:\t-0.5861147599017333\n",
      "\t \n"
     ]
    }
   ],
   "source": [
    "hennepin_tract_incs = hennepin.groupby(by=['COUNTY', 'TRACT'])\n",
    "hennepin_tract_incs = hennepin_tract_incs.agg({'hh_income': 'mean'})\n",
    "hennepin_tract_incs = hennepin_tract_incs.rename(columns={'hh_income':'x'})\n",
    "print(\"Hennepin census tract income\\n\\tmean:\\t{0}\\n\\tstdev:\\t{1}\\n\\tmedian:\\t{2}\\n\\tmin:\\t{3}\\n\\tmax:\\t{4}\\n\\tskew:\\t{5}\\n\\tkurt:\\t{6}\\n\\t \".format(hennepin_tract_incs['x'].mean(), \n",
    "                                                                                                                                           hennepin_tract_incs['x'].std(), \n",
    "                                                                                                                                           hennepin_tract_incs['x'].median(), \n",
    "                                                                                                                                           hennepin_tract_incs['x'].min(), \n",
    "                                                                                                                                           hennepin_tract_incs['x'].max(), \n",
    "                                                                                                                                           hennepin_tract_incs['x'].skew(),\n",
    "                                                                                                                                           hennepin_tract_incs['x'].kurtosis()) )\n",
    "\n",
    "plot_kernel_density(hennepin_tract_incs, plt_title=\"Hennepin County Census Tract Incomes\", plt_xlabel=\"Tract Average Household Income\", plt_ylabel=\"Density\")"
   ]
  },
  {
   "cell_type": "code",
   "execution_count": 23,
   "metadata": {},
   "outputs": [
    {
     "name": "stdout",
     "output_type": "stream",
     "text": [
      "Hennepin census block group income\n",
      "\tmean:\t81334.00026144038\n",
      "\tstdev:\t34201.44446722149\n",
      "\tmedian:\t77368.95182724252\n",
      "\tmin:\t8022.5904059040595\n",
      "\tmax:\t198311.22253521127\n",
      "\tskew:\t0.4875637713156396\n",
      "\tkurt:\t-0.2912669098995275\n",
      "\t \n"
     ]
    }
   ],
   "source": [
    "hennepin_block_grp_incs = hennepin.groupby(by=['COUNTY', 'TRACT', 'BLKGRP'])\n",
    "hennepin_block_grp_incs = hennepin_block_grp_incs.agg({'hh_income': 'mean'})\n",
    "hennepin_block_grp_incs = hennepin_block_grp_incs.rename(columns={'hh_income':'x'})\n",
    "print(\"Hennepin census block group income\\n\\tmean:\\t{0}\\n\\tstdev:\\t{1}\\n\\tmedian:\\t{2}\\n\\tmin:\\t{3}\\n\\tmax:\\t{4}\\n\\tskew:\\t{5}\\n\\tkurt:\\t{6}\\n\\t \".format(hennepin_block_grp_incs['x'].mean(), \n",
    "                                                                                                                                           hennepin_block_grp_incs['x'].std(), \n",
    "                                                                                                                                           hennepin_block_grp_incs['x'].median(), \n",
    "                                                                                                                                           hennepin_block_grp_incs['x'].min(), \n",
    "                                                                                                                                           hennepin_block_grp_incs['x'].max(), \n",
    "                                                                                                                                           hennepin_block_grp_incs['x'].skew(),\n",
    "                                                                                                                                           hennepin_block_grp_incs['x'].kurtosis()) )\n",
    "\n",
    "plot_kernel_density(hennepin_block_grp_incs, plt_title=\"Hennepin County Census Block Group Incomes\", plt_xlabel=\"Block Group Household Income\", plt_ylabel=\"Density\")"
   ]
  },
  {
   "cell_type": "code",
   "execution_count": 24,
   "metadata": {},
   "outputs": [
    {
     "name": "stdout",
     "output_type": "stream",
     "text": [
      "Hennepin census block income\n",
      "\tmean:\t87184.27052255278\n",
      "\tstdev:\t45296.42273897957\n",
      "\tmedian:\t79793.33333333333\n",
      "\tmin:\t0.0\n",
      "\tmax:\t801000.0\n",
      "\tskew:\t1.950546017132531\n",
      "\tkurt:\t11.90990254694749\n",
      "\t \n"
     ]
    }
   ],
   "source": [
    "hennepin_block_incs = hennepin.groupby(by=['COUNTY', 'TRACT', 'BLKGRP', 'BLOCK'])\n",
    "hennepin_block_incs = hennepin_block_incs.agg({'hh_income': 'mean'})\n",
    "hennepin_block_incs = hennepin_block_incs.rename(columns={'hh_income':'x'})\n",
    "print(\"Hennepin census block income\\n\\tmean:\\t{0}\\n\\tstdev:\\t{1}\\n\\tmedian:\\t{2}\\n\\tmin:\\t{3}\\n\\tmax:\\t{4}\\n\\tskew:\\t{5}\\n\\tkurt:\\t{6}\\n\\t \".format(hennepin_block_incs['x'].mean(), \n",
    "                                                                                                                                           hennepin_block_incs['x'].std(), \n",
    "                                                                                                                                           hennepin_block_incs['x'].median(), \n",
    "                                                                                                                                           hennepin_block_incs['x'].min(), \n",
    "                                                                                                                                           hennepin_block_incs['x'].max(), \n",
    "                                                                                                                                           hennepin_block_incs['x'].skew(),\n",
    "                                                                                                                                           hennepin_block_incs['x'].kurtosis()) )\n",
    "\n",
    "plot_kernel_density(hennepin_block_incs, plt_title=\"Hennepin County Census Block Incomes\", plt_xlabel=\"Block Household Income\", plt_ylabel=\"Density\")"
   ]
  },
  {
   "cell_type": "code",
   "execution_count": null,
   "metadata": {},
   "outputs": [],
   "source": []
  }
 ],
 "metadata": {
  "kernelspec": {
   "display_name": "Python 3",
   "language": "python",
   "name": "python3"
  },
  "language_info": {
   "codemirror_mode": {
    "name": "ipython",
    "version": 3
   },
   "file_extension": ".py",
   "mimetype": "text/x-python",
   "name": "python",
   "nbconvert_exporter": "python",
   "pygments_lexer": "ipython3",
   "version": "3.7.9"
  }
 },
 "nbformat": 4,
 "nbformat_minor": 2
}
