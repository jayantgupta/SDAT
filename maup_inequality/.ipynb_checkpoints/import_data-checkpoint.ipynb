{
 "cells": [
  {
   "cell_type": "code",
   "execution_count": 1,
   "metadata": {},
   "outputs": [],
   "source": [
    "import arcpy\n",
    "import os\n",
    "import numpy\n",
    "import pandas\n",
    "from datetime import datetime, timedelta"
   ]
  },
  {
   "cell_type": "markdown",
   "metadata": {},
   "source": [
    "Load FRED/RTI microdata into database from files.\n",
    "\n",
    "    Assumes a folder called \"data/\" with many subfolders representing counties. Each county subfolder should have a file \"households.txt\". Concatenates all these county incomes together and saves the full list as a csv."
   ]
  },
  {
   "cell_type": "code",
   "execution_count": 2,
   "metadata": {},
   "outputs": [
    {
     "name": "stdout",
     "output_type": "stream",
     "text": [
      "C:\\Users\\alex\\Documents\\code\\maup_income_inequality\\maup_inequality\\maup_inequality.gdb\n"
     ]
    }
   ],
   "source": [
    "print(arcpy.env.workspace)"
   ]
  },
  {
   "cell_type": "code",
   "execution_count": 3,
   "metadata": {},
   "outputs": [],
   "source": [
    "def read_households_file(data_root_folder, save_filename):\n",
    "    full_dataset = pandas.DataFrame()  # empty dataframe to start\n",
    "    numrecs = 0\n",
    "    #directory = os.fsencode(data_root_folder)\n",
    "    for county_folder in os.listdir(data_root_folder):\n",
    "        county_foldername = os.fsdecode(county_folder)\n",
    "        folderpath = os.fsdecode(os.path.join(data_root_folder,county_foldername))\n",
    "        if (folderpath.endswith(('.zip', '.csv'))):   # ignore anything that isn't a folder\n",
    "            continue        \n",
    "        for file in os.listdir(folderpath):\n",
    "            filename = os.fsdecode(file)\n",
    "            if (filename == \"households.txt\"):     # read households file\n",
    "                filepath = os.fsdecode(os.path.join(folderpath,filename))\n",
    "                print(\"Loading file: {0}\".format(filepath))\n",
    "                file_data = pandas.read_csv(filepath_or_buffer = filepath,\n",
    "                                            sep='\\t',                      # tab-delimited\n",
    "                                            header=0,\n",
    "                                            index_col='sp_id',\n",
    "                                            usecols=['sp_id', 'hh_income', 'latitude', 'longitude'],\n",
    "                                            dtype={\n",
    "                                                'sp_id': str,\n",
    "                                                'hh_income': int,\n",
    "                                                'latitude': str,\n",
    "                                                'longitude': str\n",
    "                                            },\n",
    "                                            engine='c' )\n",
    "                (nrows, _) = file_data.shape\n",
    "                print(\"Read {0} income records. Merging with dataset\".format(nrows))\n",
    "                numrecs += nrows\n",
    "                full_dataset = pandas.concat([full_dataset, file_data])\n",
    "                \n",
    "    # write dataset to file\n",
    "    print(\"\\nFinished merging {0} income records together. Writing full file to disk...\".format(numrecs))\n",
    "    save_fpath = os.fsdecode(os.path.join(data_root_folder, save_filename))\n",
    "    full_dataset.to_csv(path_or_buf=save_fpath)\n",
    "    print(\"Done.\")\n",
    "    return"
   ]
  },
  {
   "cell_type": "code",
   "execution_count": null,
   "metadata": {},
   "outputs": [],
   "source": [
    "# Condense many households files into one dataframe by iterating through data folder\n",
    "data_folder = \"../data\"            # position of data folder relative to this notebook file\n",
    "save_fname = \"rti_incomes.csv\"     # filename to export merged csv as (within data_folder directory)\n",
    " \n",
    "read_households_file(data_folder, save_fname)"
   ]
  },
  {
   "cell_type": "code",
   "execution_count": 4,
   "metadata": {},
   "outputs": [
    {
     "data": {
      "text/plain": [
       "<Result 'C:\\\\Users\\\\alex\\\\Documents\\\\code\\\\maup_income_inequality\\\\maup_inequality\\\\maup_inequality.gdb\\\\rti_income_table'>"
      ]
     },
     "execution_count": 4,
     "metadata": {},
     "output_type": "execute_result"
    }
   ],
   "source": [
    "# Geocode table\n",
    "\n",
    "data_folder = \"../data\"            # position of data folder relative to this notebook file\n",
    "save_fname = \"rti_incomes.csv\"     # filename to export merged csv as (within data_folder directory)\n",
    "out_tablename = \"rti_income_table\"\n",
    "\n",
    "rti_incomes_path = os.fsdecode(os.path.join(data_folder, save_fname))\n",
    "\n",
    "outtable = arcpy.TableToTable_conversion(in_rows = rti_incomes_path, \n",
    "                     out_path = arcpy.env.workspace, \n",
    "                     out_name = out_tablename)"
   ]
  },
  {
   "cell_type": "code",
   "execution_count": 5,
   "metadata": {},
   "outputs": [
    {
     "ename": "NameError",
     "evalue": "name 'XYTableToPoint' is not defined",
     "output_type": "error",
     "traceback": [
      "\u001b[0;31m---------------------------------------------------------------------------\u001b[0m\n\u001b[0;31mNameError\u001b[0m                                 Traceback (most recent call last)",
      "In  \u001b[0;34m[5]\u001b[0m:\nLine \u001b[0;34m2\u001b[0m:     XYTableToPoint(in_table = \u001b[33m\"\u001b[39;49;00m\u001b[33mrti_income_table\u001b[39;49;00m\u001b[33m\"\u001b[39;49;00m, \n",
      "\u001b[0;31mNameError\u001b[0m: name 'XYTableToPoint' is not defined\n\u001b[0;31m---------------------------------------------------------------------------\u001b[0m"
     ]
    }
   ],
   "source": [
    "rti_income_feature_class = \"rti_income_feature_class\"\n",
    "arcpy.XYTableToPoint(in_table = \"rti_income_table\", \n",
    "                       out_feature_class = rti_income_feature_class, \n",
    "                       x_field = \"longitude\", \n",
    "                       y_field = \"latitude\")"
   ]
  },
  {
   "cell_type": "code",
   "execution_count": 30,
   "metadata": {},
   "outputs": [],
   "source": [
    "# Computationally efficient Gini function (from https://github.com/oliviaguest/gini) \n",
    "#    and https://www.statsdirect.com/help/default.htm#nonparametric_methods/gini.htm\n",
    "def gini(array):\n",
    "    array = array.flatten()\n",
    "    print(\"Calculating Gini. Example of data: \")\n",
    "    print(array[:5])\n",
    "    # Values cannot be negative:\n",
    "    if (numpy.amin(array) < 0):\n",
    "        array -= numpy.amin(array)\n",
    "    \n",
    "    # Sort values:\n",
    "    array = numpy.sort(array)\n",
    "    \n",
    "    # Index and count of array elements:\n",
    "    index = numpy.arange(1,array.shape[0]+1)\n",
    "    n = array.shape[0]\n",
    "    \n",
    "    # Gini coefficient:\n",
    "    return (   (  numpy.sum(( (2*index) - n - 1 ) * array)  ) / (n * numpy.sum(array))   )\n"
   ]
  },
  {
   "cell_type": "code",
   "execution_count": null,
   "metadata": {},
   "outputs": [],
   "source": [
    "\n",
    "incomefile = \"../Data/rti_incomes.csv\"\n",
    "incomelist = pandas.read_csv(filepath_or_buffer=incomefile,\n",
    "                             header=0,\n",
    "                             index_col=False,\n",
    "                             usecols=['hh_income'],\n",
    "                             dtype={'hh_income': numpy.longlong},\n",
    "                             engine='c')\n",
    "print(\"Read in file. Calculating Gini...\")\n",
    "g = gini(incomelist.to_numpy())\n",
    "print(\"Gini is {0}\".format(g))"
   ]
  },
  {
   "cell_type": "code",
   "execution_count": 7,
   "metadata": {},
   "outputs": [
    {
     "name": "stdout",
     "output_type": "stream",
     "text": [
      "Subset of Census Blocks in 2668.600716 seconds\n"
     ]
    }
   ],
   "source": [
    "t1 = datetime.now()\n",
    "# Select only census blocks in MN\n",
    "arcpy.SelectLayerByAttribute_management('Census Blocks', \n",
    "                                        'NEW_SELECTION', \n",
    "                                        \"STATE = '27'\")\n",
    "\n",
    "# Write the selected features to a new featureclass\n",
    "arcpy.CopyFeatures_management('Census Blocks', 'census_blocks_mn')\n",
    "t2 = datetime.now()\n",
    "t2_delta = t2-t1\n",
    "print(\"Subset of Census Blocks in {0} seconds\".format(t2_delta.total_seconds()))"
   ]
  },
  {
   "cell_type": "code",
   "execution_count": 8,
   "metadata": {},
   "outputs": [
    {
     "name": "stdout",
     "output_type": "stream",
     "text": [
      "Assigned income points to census blocks in 83.107912 seconds (1.3851318666666665 minutes)\n"
     ]
    }
   ],
   "source": [
    "# Create income means by block, block group, tract, county\n",
    "t1 = datetime.now()\n",
    "arcpy.SpatialJoin_analysis('census_blocks_mn', # target_features\n",
    "                           'rti_income_feature_class', # join_features \n",
    "                           'rti_income_by_block', # out_feature_class\n",
    "                           'JOIN_ONE_TO_MANY', # join_operation\n",
    "                           'KEEP_ALL', # join_type\n",
    "                           None, # field_mapping\n",
    "                           'CONTAINS', # match_option\n",
    "                           None, # search_radius\n",
    "                           None # distance_field_name\n",
    "                           )\n",
    "t2 = datetime.now()\n",
    "t2_delta = t2-t1\n",
    "print(\"Assigned income points to census blocks in {0} seconds ({1} minutes)\".format(t2_delta.total_seconds(), t2_delta.total_seconds()/60))\n"
   ]
  },
  {
   "cell_type": "code",
   "execution_count": 17,
   "metadata": {},
   "outputs": [],
   "source": [
    "# export grouped feature class to table for Gini calculation\n",
    "in_feature_class = \"rti_income_by_block\"\n",
    "out_location = 'C:\\\\Users\\\\alex\\\\Documents\\\\code\\\\maup_income_inequality\\\\maup_inequality\\\\outputs\\\\'\n",
    "out_filename = \"rti_income_grouped_by_block.csv\"\n",
    "\n",
    "outtable = arcpy.TableToTable_conversion(in_rows = in_feature_class, \n",
    "                     out_path = out_location, \n",
    "                     out_name = out_filename)\n",
    "\n"
   ]
  },
  {
   "cell_type": "code",
   "execution_count": 31,
   "metadata": {},
   "outputs": [
    {
     "name": "stdout",
     "output_type": "stream",
     "text": [
      "<bound method NDFrame.head of                  hh_income\n",
      "GEOID                     \n",
      "270370605081031     141115\n",
      "270370605081033     147545\n",
      "270370605081040     117076\n",
      "270370605082003      65320\n",
      "270370605082008     101066\n",
      "...                    ...\n",
      "270370607323012     136960\n",
      "270370607323013     129083\n",
      "270370607323014     128542\n",
      "270370607323015     110125\n",
      "270370607323023     146580\n",
      "\n",
      "[147 rows x 1 columns]>\n",
      "Read in file. Calculating Gini...\n",
      "Calculating Gini. Example of data: \n",
      "[141115 147545 117076  65320 101066]\n",
      "Gini is 0.13748951998388223\n"
     ]
    }
   ],
   "source": [
    "in_filename = 'C:\\\\Users\\\\alex\\\\Documents\\\\code\\\\maup_income_inequality\\\\maup_inequality\\\\outputs\\\\rti_income_grouped_by_block.csv'\n",
    "\n",
    "incomelist = pandas.read_csv(filepath_or_buffer=in_filename,\n",
    "                             header=0,\n",
    "                             index_col=False,\n",
    "                             usecols=['hh_income', 'GEOID'],\n",
    "                             engine='c')\n",
    "\n",
    "# drop rows with NA - if there's no data for a census block, we will ignore it\n",
    "incomelist = incomelist.dropna()\n",
    "\n",
    "# calculate mean income of each census block\n",
    "mean_income = incomelist.groupby('GEOID').mean()\n",
    "mean_income.hh_income = mean_income.hh_income.astype(numpy.longlong)\n",
    "#mean_incomes = mean_income['hh_income']\n",
    "#print(mean_income.head)\n",
    "\n",
    "print(\"Read in file. Calculating Gini...\")\n",
    "g = gini(mean_incomes.to_numpy())\n",
    "print(\"Gini is {0}\".format(g))"
   ]
  },
  {
   "cell_type": "code",
   "execution_count": 34,
   "metadata": {},
   "outputs": [
    {
     "name": "stdout",
     "output_type": "stream",
     "text": [
      "Created Subset of census_block_group in Minnesota only in 24.257301 seconds\n",
      "Assigned income points to census_block_group in 642.43817 seconds (10.707302833333333 minutes)\n"
     ]
    },
    {
     "ename": "FileNotFoundError",
     "evalue": "[Errno 2] File b'rti_income_grouped_by_census_block_group.csv' does not exist: b'rti_income_grouped_by_census_block_group.csv'",
     "output_type": "error",
     "traceback": [
      "\u001b[0;31m---------------------------------------------------------------------------\u001b[0m\n\u001b[0;31mFileNotFoundError\u001b[0m                         Traceback (most recent call last)",
      "In  \u001b[0;34m[34]\u001b[0m:\nLine \u001b[0;34m67\u001b[0m:    Gini_From_Shape_File(\u001b[33m'\u001b[39;49;00m\u001b[33mUSA Block Groups\u001b[39;49;00m\u001b[33m'\u001b[39;49;00m, \u001b[33m'\u001b[39;49;00m\u001b[33mcensus_block_group\u001b[39;49;00m\u001b[33m'\u001b[39;49;00m, \u001b[33m'\u001b[39;49;00m\u001b[33mSTATE_FIPS\u001b[39;49;00m\u001b[33m'\u001b[39;49;00m, \u001b[33m'\u001b[39;49;00m\u001b[33mSTCOFIPS\u001b[39;49;00m\u001b[33m'\u001b[39;49;00m)\n",
      "In  \u001b[0;34m[34]\u001b[0m:\nLine \u001b[0;34m49\u001b[0m:    engine=\u001b[33m'\u001b[39;49;00m\u001b[33mc\u001b[39;49;00m\u001b[33m'\u001b[39;49;00m)\n",
      "File \u001b[0;34mC:\\Users\\alex\\AppData\\Local\\ESRI\\conda\\envs\\arcgispro-py3-clone\\lib\\site-packages\\pandas\\io\\parsers.py\u001b[0m, in \u001b[0;32mparser_f\u001b[0m:\nLine \u001b[0;34m685\u001b[0m:   \u001b[34mreturn\u001b[39;49;00m _read(filepath_or_buffer, kwds)\n",
      "File \u001b[0;34mC:\\Users\\alex\\AppData\\Local\\ESRI\\conda\\envs\\arcgispro-py3-clone\\lib\\site-packages\\pandas\\io\\parsers.py\u001b[0m, in \u001b[0;32m_read\u001b[0m:\nLine \u001b[0;34m457\u001b[0m:   parser = TextFileReader(fp_or_buf, **kwds)\n",
      "File \u001b[0;34mC:\\Users\\alex\\AppData\\Local\\ESRI\\conda\\envs\\arcgispro-py3-clone\\lib\\site-packages\\pandas\\io\\parsers.py\u001b[0m, in \u001b[0;32m__init__\u001b[0m:\nLine \u001b[0;34m895\u001b[0m:   \u001b[36mself\u001b[39;49;00m._make_engine(\u001b[36mself\u001b[39;49;00m.engine)\n",
      "File \u001b[0;34mC:\\Users\\alex\\AppData\\Local\\ESRI\\conda\\envs\\arcgispro-py3-clone\\lib\\site-packages\\pandas\\io\\parsers.py\u001b[0m, in \u001b[0;32m_make_engine\u001b[0m:\nLine \u001b[0;34m1135\u001b[0m:  \u001b[36mself\u001b[39;49;00m._engine = CParserWrapper(\u001b[36mself\u001b[39;49;00m.f, **\u001b[36mself\u001b[39;49;00m.options)\n",
      "File \u001b[0;34mC:\\Users\\alex\\AppData\\Local\\ESRI\\conda\\envs\\arcgispro-py3-clone\\lib\\site-packages\\pandas\\io\\parsers.py\u001b[0m, in \u001b[0;32m__init__\u001b[0m:\nLine \u001b[0;34m1917\u001b[0m:  \u001b[36mself\u001b[39;49;00m._reader = parsers.TextReader(src, **kwds)\n",
      "File \u001b[0;34mpandas\\_libs\\parsers.pyx\u001b[0m, in \u001b[0;32mpandas._libs.parsers.TextReader.__cinit__\u001b[0m:\nLine \u001b[0;34m382\u001b[0m:   \n",
      "File \u001b[0;34mpandas\\_libs\\parsers.pyx\u001b[0m, in \u001b[0;32mpandas._libs.parsers.TextReader._setup_parser_source\u001b[0m:\nLine \u001b[0;34m689\u001b[0m:   \n",
      "\u001b[0;31mFileNotFoundError\u001b[0m: [Errno 2] File b'rti_income_grouped_by_census_block_group.csv' does not exist: b'rti_income_grouped_by_census_block_group.csv'\n\u001b[0;31m---------------------------------------------------------------------------\u001b[0m"
     ]
    }
   ],
   "source": [
    "def Gini_From_Shape_File(input_shape_feature, shape_group_name, input_shape_statefips_name, input_shape_countyfips_name):\n",
    "    ## Filter shape file down to just Minnesota for speed\n",
    "    print(\"Creating subset of shape file just for Minnesota data...\")\n",
    "    t1 = datetime.now()\n",
    "    # Select only census blocks in MN\n",
    "    arcpy.SelectLayerByAttribute_management(input_shape_feature, \n",
    "                                            'NEW_SELECTION', \n",
    "                                            input_shape_statefips_name+\" = '27'\")\n",
    "\n",
    "    # Write the selected features to a new featureclass\n",
    "    arcpy.CopyFeatures_management(input_shape_feature, shape_group_name+\"_mn\")\n",
    "    t2 = datetime.now()\n",
    "    t2_delta = t2-t1\n",
    "    print(\"Created Subset of {0} in Minnesota only in {1} seconds\".format(\n",
    "        shape_group_name,\n",
    "        t2_delta.total_seconds()))\n",
    "    \n",
    "    print(\"Assigning income points to groups...\")\n",
    "    ## Create income means by block, block group, tract, county\n",
    "    t1 = datetime.now()\n",
    "    arcpy.SpatialJoin_analysis(shape_group_name+\"_mn\", # target_features\n",
    "                               'rti_income_feature_class', # join_features \n",
    "                               'rti_income_by_'+shape_group_name, # out_feature_class\n",
    "                               'JOIN_ONE_TO_MANY', # join_operation\n",
    "                               'KEEP_ALL', # join_type\n",
    "                               None, # field_mapping\n",
    "                               'CONTAINS', # match_option\n",
    "                               None, # search_radius\n",
    "                               None # distance_field_name\n",
    "                               )\n",
    "    t2 = datetime.now()\n",
    "    t2_delta = t2-t1\n",
    "    print(\"Assigned income points to {0} in {1} seconds ({2} minutes)\".format(\n",
    "        shape_group_name,\n",
    "        t2_delta.total_seconds(), \n",
    "        t2_delta.total_seconds()/60))\n",
    "    \n",
    "    print(\"Saving feature layer and reading in as raster...\")\n",
    "    ## export grouped feature class to table for Gini calculation\n",
    "    out_location = 'C:\\\\Users\\\\alex\\\\Documents\\\\code\\\\maup_income_inequality\\\\maup_inequality\\\\outputs\\\\'\n",
    "    out_filename = \"rti_income_grouped_by_\" + shape_group_name + \".csv\"\n",
    "    outtable = arcpy.TableToTable_conversion(\n",
    "                        in_rows = 'rti_income_by_'+shape_group_name, \n",
    "                        out_path = out_location, \n",
    "                        out_name = out_filename)\n",
    "\n",
    "    ## Calculate GINI\n",
    "    incomelist = pandas.read_csv(filepath_or_buffer=out_location+out_filename,\n",
    "                                 header=0,\n",
    "                                 index_col=False,\n",
    "                                 usecols=['hh_income', input_shape_countyfips_name],\n",
    "                                 engine='c')\n",
    "\n",
    "    # drop rows with NA - if there's no data for a census block, we will ignore it\n",
    "    incomelist = incomelist.dropna()\n",
    "\n",
    "    print(\"Calcuating Gini...\")\n",
    "    # calculate mean income of each census block\n",
    "    mean_income = incomelist.groupby(input_shape_countyfips_name).mean()\n",
    "    mean_income.hh_income = mean_income[input_shape_countyfips_name].astype(numpy.longlong)\n",
    "    #mean_incomes = mean_income['hh_income']\n",
    "    #print(mean_income.head)\n",
    "\n",
    "    g = gini(mean_incomes.to_numpy())\n",
    "    print(\"Gini is {0}\".format(g))\n",
    "    return\n",
    "    \n",
    "    \n",
    "    \n",
    "Gini_From_Shape_File('USA Block Groups', 'census_block_group', 'STATE_FIPS', 'STCOFIPS')"
   ]
  },
  {
   "cell_type": "code",
   "execution_count": 38,
   "metadata": {},
   "outputs": [
    {
     "name": "stdout",
     "output_type": "stream",
     "text": [
      "Calcuating Gini...\n",
      "Calculating Gini. Example of data: \n",
      "[141115 147545 117076  65320 101066]\n",
      "Gini is 0.13748951998388223\n"
     ]
    }
   ],
   "source": [
    "input_shape_feature = 'USA Block Groups'\n",
    "shape_group_name = 'census_block_group'\n",
    "input_shape_statefips_name = 'STATE_FIPS'\n",
    "input_shape_countyfips_name = 'STCOFIPS'\n",
    "out_location = 'C:\\\\Users\\\\alex\\\\Documents\\\\code\\\\maup_income_inequality\\\\maup_inequality\\\\outputs\\\\'\n",
    "out_filename = \"rti_income_grouped_by_\" + shape_group_name + \".csv\"\n",
    "\n",
    "## Calculate GINI\n",
    "incomelist = pandas.read_csv(filepath_or_buffer=out_location+out_filename,\n",
    "                             header=0,\n",
    "                             index_col=False,\n",
    "                             usecols=['hh_income', input_shape_countyfips_name],\n",
    "                             engine='c')\n",
    "\n",
    "# drop rows with NA - if there's no data for a census block, we will ignore it\n",
    "incomelist = incomelist.dropna()\n",
    "\n",
    "print(\"Calcuating Gini...\")\n",
    "# calculate mean income of each census block\n",
    "mean_income = incomelist.groupby(input_shape_countyfips_name).mean()\n",
    "mean_income.hh_income = mean_income.hh_income.astype(numpy.longlong)\n",
    "#mean_incomes = mean_income['hh_income']\n",
    "\n",
    "g = gini(mean_incomes.to_numpy())\n",
    "print(\"Gini is {0}\".format(g))"
   ]
  },
  {
   "cell_type": "code",
   "execution_count": 40,
   "metadata": {},
   "outputs": [
    {
     "name": "stdout",
     "output_type": "stream",
     "text": [
      "Calculating Gini. Example of data: \n",
      "[141115 147545 117076  65320 101066]\n",
      "Block Gini is 0.13748951998388223\n",
      "Calculating Gini. Example of data: \n",
      "[137331  95750 139132 129434  91768]\n",
      "Block Group Gini is 0.0687703133130639\n",
      "Calculating Gini. Example of data: \n",
      "[116349 122422 132136 145454 127324]\n",
      "Tract Gini is 0.042209465810140054\n",
      "Calculating Gini. Example of data: \n",
      "[128788]\n",
      "County Gini is 0.0\n"
     ]
    }
   ],
   "source": [
    "in_filename = 'C:\\\\Users\\\\alex\\\\Documents\\\\code\\\\maup_income_inequality\\\\maup_inequality\\\\outputs\\\\rti_income_grouped_by_block.csv'\n",
    "\n",
    "incomelist = pandas.read_csv(filepath_or_buffer=in_filename,\n",
    "                             header=0,\n",
    "                             index_col=False,\n",
    "                             usecols=['hh_income', 'GEOID', 'COUNTY', 'TRACT', 'BLKGRP', 'BLOCK'],\n",
    "                             engine='c')\n",
    "\n",
    "# drop rows with NA - if there's no data for a census block, we will ignore it\n",
    "incomelist = incomelist.dropna()\n",
    "\n",
    "# calculate mean income of each census block\n",
    "mean_income = incomelist.groupby(['COUNTY', 'TRACT', 'BLKGRP', 'BLOCK']).mean()\n",
    "mean_income.hh_income = mean_income.hh_income.astype(numpy.longlong)\n",
    "mean_incomes = mean_income['hh_income']\n",
    "#print(mean_income.head)\n",
    "g = gini(mean_incomes.to_numpy())\n",
    "print(\"Block Gini is {0}\".format(g))\n",
    "\n",
    "\n",
    "# calculate mean income of each census block group\n",
    "mean_income = incomelist.groupby(['COUNTY', 'TRACT', 'BLKGRP']).mean()\n",
    "mean_income.hh_income = mean_income.hh_income.astype(numpy.longlong)\n",
    "mean_incomes = mean_income['hh_income']\n",
    "g = gini(mean_incomes.to_numpy())\n",
    "print(\"Block Group Gini is {0}\".format(g))\n",
    "\n",
    "# calculate mean income of each census tract\n",
    "mean_income = incomelist.groupby(['COUNTY', 'TRACT']).mean()\n",
    "mean_income.hh_income = mean_income.hh_income.astype(numpy.longlong)\n",
    "mean_incomes = mean_income['hh_income']\n",
    "g = gini(mean_incomes.to_numpy())\n",
    "print(\"Tract Gini is {0}\".format(g))\n",
    "\n",
    "# calculate mean income of each county\n",
    "mean_income = incomelist.groupby(['COUNTY']).mean()\n",
    "mean_income.hh_income = mean_income.hh_income.astype(numpy.longlong)\n",
    "mean_incomes = mean_income['hh_income']\n",
    "g = gini(mean_incomes.to_numpy())\n",
    "print(\"County Gini is {0}\".format(g))"
   ]
  }
 ],
 "metadata": {
  "kernelspec": {
   "display_name": "Python 3",
   "language": "python",
   "name": "python3"
  },
  "language_info": {
   "codemirror_mode": {
    "name": "ipython",
    "version": 3
   },
   "file_extension": ".py",
   "mimetype": "text/x-python",
   "name": "python",
   "nbconvert_exporter": "python",
   "pygments_lexer": "ipython3",
   "version": "3.7.9"
  }
 },
 "nbformat": 4,
 "nbformat_minor": 2
}
