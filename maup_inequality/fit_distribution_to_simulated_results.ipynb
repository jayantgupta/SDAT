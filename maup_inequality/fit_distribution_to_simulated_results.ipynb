{
 "cells": [
  {
   "cell_type": "code",
   "execution_count": 43,
   "metadata": {},
   "outputs": [],
   "source": [
    "import numpy as np\n",
    "from scipy.stats import norm\n",
    "import pandas as pd\n",
    "import matplotlib.pyplot as plt\n",
    "import seaborn as sns"
   ]
  },
  {
   "cell_type": "code",
   "execution_count": 44,
   "metadata": {},
   "outputs": [],
   "source": [
    "fpath = \"./outputs/simulation_100_4000/results.csv\"\n",
    "sim_results = pd.read_csv(filepath_or_buffer=fpath,\n",
    "                          header=0,\n",
    "                          index_col=False,\n",
    "                          usecols=['iteration', 'gini', 'theil_l', 'theil_t', 'atkinson_25', 'atkinson_50', 'atkinson_75'])"
   ]
  },
  {
   "cell_type": "markdown",
   "metadata": {},
   "source": [
    "# Fit Gini to Normal distribution\n",
    "To start with, let's fit our Gini results to a Normal distribution and measure the error."
   ]
  },
  {
   "cell_type": "code",
   "execution_count": 51,
   "metadata": {},
   "outputs": [],
   "source": [
    "def plot_mle_gaussian_fit(data, plt_title='', plt_xlabel='', plt_ylabel='', filename=''):\n",
    "    sns.distplot(data['x'],\n",
    "                 fit=norm,\n",
    "                 kde=False,\n",
    "                 kde_kws={'linewidth': 3},\n",
    "                 color='darkblue')\n",
    "    \n",
    "    plt.title(plt_title)\n",
    "    plt.xlabel(plt_xlabel)\n",
    "    plt.ylabel(plt_ylabel)\n",
    "    \n",
    "    figname=filename+\".png\"\n",
    "    plt.savefig(figname)\n",
    "    \n",
    "    plt.show()\n",
    "    return"
   ]
  },
  {
   "cell_type": "code",
   "execution_count": 52,
   "metadata": {},
   "outputs": [],
   "source": [
    "sim_results_gini = sim_results.rename(columns={'gini':'x'})\n",
    "plot_mle_gaussian_fit(sim_results_gini, plt_title=\"MLE Gaussian Fit to Gini on 100 Simulated Partitions\\n(Pop. criteria 4,000)\", plt_xlabel=\"Empirical Gini\", plt_ylabel=\"Density\", filename=\"Norm_Gini_100_4000\")"
   ]
  },
  {
   "cell_type": "code",
   "execution_count": 53,
   "metadata": {},
   "outputs": [],
   "source": [
    "sim_results_theil_l = sim_results.rename(columns={'theil_l':'x'})\n",
    "plot_mle_gaussian_fit(sim_results_theil_l, plt_title=\"MLE Gaussian Fit to Theil's L on 100 Simulated Partitions\\n(Pop. criteria 4,000)\", plt_xlabel=\"Empirical Theil's L\", plt_ylabel=\"Density\", filename=\"Norm_Theil_L_100_4000\")"
   ]
  },
  {
   "cell_type": "code",
   "execution_count": 54,
   "metadata": {},
   "outputs": [],
   "source": [
    "sim_results_theil_t = sim_results.rename(columns={'theil_t':'x'})\n",
    "plot_mle_gaussian_fit(sim_results_theil_t, plt_title=\"MLE Gaussian Fit to Theil's T on 100 Simulated Partitions\\n(Pop. criteria 4,000)\", plt_xlabel=\"Empirical Theil's T\", plt_ylabel=\"Density\", filename=\"Norm_Theil_T_100_4000\")"
   ]
  },
  {
   "cell_type": "code",
   "execution_count": 55,
   "metadata": {},
   "outputs": [],
   "source": [
    "sim_results_atkinson_25 = sim_results.rename(columns={'atkinson_25':'x'})\n",
    "plot_mle_gaussian_fit(sim_results_atkinson_25, plt_title=\"MLE Gaussian Fit to Atkinson's Index on 100 Simulated Partitions\\n(Pop. criteria 4,000)\", plt_xlabel=\"Empirical Atkinson's (e=0.25)\", plt_ylabel=\"Density\", filename=\"Norm_Atkinson_25_100_4000\")"
   ]
  },
  {
   "cell_type": "code",
   "execution_count": 56,
   "metadata": {},
   "outputs": [],
   "source": [
    "sim_results_atkinson_50 = sim_results.rename(columns={'atkinson_50':'x'})\n",
    "plot_mle_gaussian_fit(sim_results_atkinson_50, plt_title=\"MLE Gaussian Fit to Atkinson's Index on 100 Simulated Partitions\\n(Pop. criteria 4,000)\", plt_xlabel=\"Empirical Atkinson's (e=0.5)\", plt_ylabel=\"Density\", filename=\"Norm_Atkinson_50_100_4000\")"
   ]
  },
  {
   "cell_type": "code",
   "execution_count": 58,
   "metadata": {},
   "outputs": [],
   "source": [
    "sim_results_atkinson_75 = sim_results.rename(columns={'atkinson_75':'x'})\n",
    "plot_mle_gaussian_fit(sim_results_atkinson_75, plt_title=\"MLE Gaussian Fit to Atkinson's Index on 100 Simulated Partitions\\n(Pop. criteria 4,000)\", plt_xlabel=\"Empirical Atkinson's (e=0.75)\", plt_ylabel=\"Density\", filename=\"Norm_Atkinson_75_100_4000\")"
   ]
  },
  {
   "cell_type": "markdown",
   "metadata": {},
   "source": [
    "# Compare sampled results with actual partitions\n",
    "\n",
    "The quantification of how abnormal census tracts are in terms of Gini outcomes will be explored next, by fitting a distribution to the simulated results. Similar tests will be performed on the other income statistics. In addition to showing that the census tracts of today are unlikely, our simulation distribution shows that under the population constraint Gini is relatively stable, with a standard deviation of less than 0.01. This variation is inconsequential when compared to the difference between Gini on ungrouped incomes and block averages, underlining the findings in the previous section. In addition, we will attempt to gain a better mathematical understanding of the Theil and Atkinson indexes based on their behavior in simulation."
   ]
  },
  {
   "cell_type": "code",
   "execution_count": 28,
   "metadata": {},
   "outputs": [
    {
     "name": "stdout",
     "output_type": "stream",
     "text": [
      "Normal approximation 99% confidence interval: (0.19818876981013106, 0.20707067116756317)\n"
     ]
    }
   ],
   "source": [
    "# Confidence intervals using method 1 - normal approximation\n",
    "bootstrap_mean = sim_results['gini'].mean()\n",
    "bootstrap_std = sim_results['gini'].std()\n",
    "\n",
    "# 95% confidence interval is z value of 1.96\n",
    "# 99% confidence interval is z value of 2.58\n",
    "low=bootstrap_mean - (2.58 * bootstrap_std)\n",
    "high=bootstrap_mean + (2.58 * bootstrap_std)\n",
    "print(\"Normal approximation 99% confidence interval: ({0}, {1})\".format(low, high))"
   ]
  },
  {
   "cell_type": "code",
   "execution_count": 29,
   "metadata": {},
   "outputs": [
    {
     "name": "stdout",
     "output_type": "stream",
     "text": [
      "Pivotal approximation 99% confidence interval: (0.19851567326552616, 0.20590112414641554)\n"
     ]
    }
   ],
   "source": [
    "# Confidence intervals using method 2 - quantiles\n",
    "low_quantile = sim_results['gini'].quantile(q=0.005)\n",
    "high_quantile = sim_results['gini'].quantile(q=0.995)\n",
    "\n",
    "print(\"Pivotal approximation 99% confidence interval: ({0}, {1})\".format(low_quantile, high_quantile))"
   ]
  },
  {
   "cell_type": "markdown",
   "metadata": {},
   "source": [
    "Null hypothesis: The Hennepin county census tract Gini of **0.218685** was sampled from the distribution of possible Gini values on partitions where population is optimized to be 4,000. Or, \n",
    "```\n",
    "H0: bootstrap_mean = 0.218685\n",
    "H1: bootstrap_mean != 0.218685\n",
    "```\n",
    "\n",
    "We assume that the bootstrap mean is asymptotically Normal. Then,\n",
    "```(bootstrap_mean - 0.218685) / (bootstrap_std) ~> N(0, 1)```\n",
    "We reject H0 when\n",
    "```((bootstrap_mean - 0.218685) / (bootstrap_std)) > z_score```\n",
    "\n",
    "We select z_score according to our desired confidence interval. Assuming ```Z ~ N(0, 1)```,\n",
    "```\n",
    "p-value = 2 * Probability(Z < z_score)\n",
    "```\n",
    "We want to select p-value so that we require very strong evidence against H0 in order to reject it. We will use a p-value of 0.001"
   ]
  },
  {
   "cell_type": "code",
   "execution_count": 37,
   "metadata": {},
   "outputs": [
    {
     "name": "stdout",
     "output_type": "stream",
     "text": [
      "Bootstrap mean\t0.20262972048884711\n",
      "Bootstrap std\t0.0017212987126806463\n",
      "Difference\t-0.016055279511152876\n",
      "z-score\t\t5.423860420866147e-21\n",
      "p-value\t\t1.0847720841732294e-20\n"
     ]
    }
   ],
   "source": [
    "bootstrap_mean = sim_results['gini'].mean()\n",
    "bootstrap_std = sim_results['gini'].std()\n",
    "\n",
    "z = (bootstrap_mean - 0.218685) / bootstrap_std\n",
    "P = norm()\n",
    "z_score = P.cdf(z)\n",
    "p_value = 2 * z_score\n",
    "print(\"Bootstrap mean\\t{0}\\nBootstrap std\\t{1}\\nDifference\\t{2}\\nz-score\\t\\t{3}\\np-value\\t\\t{4}\".format(bootstrap_mean, bootstrap_std, bootstrap_mean-0.218685, z_score, p_value))"
   ]
  },
  {
   "cell_type": "markdown",
   "metadata": {},
   "source": [
    "p-value is much smaller than our acceptance criteria, so we easily reject the null hypothesis. We are left with the result that census tracts were not drawn by the same process as our population-optimizing algorithm."
   ]
  },
  {
   "cell_type": "code",
   "execution_count": 62,
   "metadata": {},
   "outputs": [],
   "source": [
    "def hypothesis_test_simulation(data, observation, name):\n",
    "    bootstrap_mean = data['x'].mean()\n",
    "    bootstrap_std = data['x'].std()\n",
    "\n",
    "    z = (bootstrap_mean - observation) / bootstrap_std\n",
    "    P = norm()\n",
    "    z_score = P.cdf(z)\n",
    "    p_value = 2 * z_score\n",
    "    print(\"{0}\\n\\tBootstrap mean\\t{1}\\n\\tBootstrap std\\t{2}\\n\\tDifference\\t{3}\\n\\tz-score\\t\\t{4}\\n\\tp-value\\t\\t{5}\".format(name, bootstrap_mean, bootstrap_std, bootstrap_mean-0.218685, z_score, p_value))\n",
    "    return"
   ]
  },
  {
   "cell_type": "code",
   "execution_count": 63,
   "metadata": {},
   "outputs": [
    {
     "name": "stdout",
     "output_type": "stream",
     "text": [
      "Gini\n",
      "\tBootstrap mean\t0.20262972048884711\n",
      "\tBootstrap std\t0.0017212987126806463\n",
      "\tDifference\t-0.016055279511152876\n",
      "\tz-score\t\t5.430105945398945e-21\n",
      "\tp-value\t\t1.086021189079789e-20\n",
      "Theil's L\n",
      "\tBootstrap mean\t0.06938825156603992\n",
      "\tBootstrap std\t0.001322770059825865\n",
      "\tDifference\t-0.14929674843396007\n",
      "\tz-score\t\t3.2465106671452165e-16\n",
      "\tp-value\t\t6.493021334290433e-16\n",
      "Theil's T\n",
      "\tBootstrap mean\t0.06414205338977479\n",
      "\tBootstrap std\t0.0011061350639359647\n",
      "\tDifference\t-0.15454294661022522\n",
      "\tz-score\t\t5.066857415500019e-21\n",
      "\tp-value\t\t1.0133714831000038e-20\n",
      "Atkinson (e=0.25)\n",
      "\tBootstrap mean\t0.04977592233421279\n",
      "\tBootstrap std\t0.0008940205693372583\n",
      "\tDifference\t-0.1689090776657872\n",
      "\tz-score\t\t1.0\n",
      "\tp-value\t\t2.0\n",
      "Atkinson (e=0.50)\n",
      "\tBootstrap mean\t0.03282976635430674\n",
      "\tBootstrap std\t0.0005785515289009558\n",
      "\tDifference\t-0.18585523364569326\n",
      "\tz-score\t\t9.101546882157557e-19\n",
      "\tp-value\t\t1.8203093764315115e-18\n",
      "Atkinson (e=0.75)\n",
      "\tBootstrap mean\t0.04977592233421279\n",
      "\tBootstrap std\t0.0008940205693372583\n",
      "\tDifference\t-0.1689090776657872\n",
      "\tz-score\t\t1.8755038930442137e-17\n",
      "\tp-value\t\t3.7510077860884275e-17\n"
     ]
    }
   ],
   "source": [
    "hypothesis_test_simulation(sim_results_gini, 0.21868478998420604, \"Gini\")\n",
    "hypothesis_test_simulation(sim_results_theil_l, 0.08007582708892766, \"Theil's L\")\n",
    "hypothesis_test_simulation(sim_results_theil_t, 0.07446742355287116, \"Theil's T\")\n",
    "hypothesis_test_simulation(sim_results_atkinson_25, 0.01878933454551135, \"Atkinson (e=0.25)\")\n",
    "hypothesis_test_simulation(sim_results_atkinson_50, 0.03790244775072271, \"Atkinson (e=0.50)\")\n",
    "hypothesis_test_simulation(sim_results_atkinson_75, 0.057303961132517234, \"Atkinson (e=0.75)\")"
   ]
  },
  {
   "cell_type": "code",
   "execution_count": null,
   "metadata": {},
   "outputs": [],
   "source": []
  }
 ],
 "metadata": {
  "kernelspec": {
   "display_name": "Python 3",
   "language": "python",
   "name": "python3"
  },
  "language_info": {
   "codemirror_mode": {
    "name": "ipython",
    "version": 3
   },
   "file_extension": ".py",
   "mimetype": "text/x-python",
   "name": "python",
   "nbconvert_exporter": "python",
   "pygments_lexer": "ipython3",
   "version": "3.7.9"
  }
 },
 "nbformat": 4,
 "nbformat_minor": 2
}
